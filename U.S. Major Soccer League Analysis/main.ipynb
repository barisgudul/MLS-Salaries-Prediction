{
 "cells": [
  {
   "cell_type": "markdown",
   "id": "d92fe102-b615-420c-92e4-ccf873401bdc",
   "metadata": {},
   "source": [
    "## Importing the Libraries"
   ]
  },
  {
   "cell_type": "code",
   "execution_count": 1,
   "id": "11d397db-8727-4d2f-b436-fc84e5686c9e",
   "metadata": {},
   "outputs": [],
   "source": [
    "import pandas as pd\n",
    "import numpy as np\n",
    "import matplotlib.pyplot as plt"
   ]
  },
  {
   "cell_type": "markdown",
   "id": "2b958e2d-ba3b-46b0-aacf-03968d5a84b3",
   "metadata": {},
   "source": [
    "## Importing the Dataset"
   ]
  },
  {
   "cell_type": "code",
   "execution_count": 2,
   "id": "930fd8e5-837c-43c6-83f6-6a87941ec64c",
   "metadata": {},
   "outputs": [
    {
     "data": {
      "text/html": [
       "<div>\n",
       "<style scoped>\n",
       "    .dataframe tbody tr th:only-of-type {\n",
       "        vertical-align: middle;\n",
       "    }\n",
       "\n",
       "    .dataframe tbody tr th {\n",
       "        vertical-align: top;\n",
       "    }\n",
       "\n",
       "    .dataframe thead th {\n",
       "        text-align: right;\n",
       "    }\n",
       "</style>\n",
       "<table border=\"1\" class=\"dataframe\">\n",
       "  <thead>\n",
       "    <tr style=\"text-align: right;\">\n",
       "      <th></th>\n",
       "      <th>club</th>\n",
       "      <th>last_name</th>\n",
       "      <th>first_name</th>\n",
       "      <th>position</th>\n",
       "      <th>base_salary</th>\n",
       "      <th>guaranteed_compensation</th>\n",
       "    </tr>\n",
       "  </thead>\n",
       "  <tbody>\n",
       "    <tr>\n",
       "      <th>0</th>\n",
       "      <td>ATL</td>\n",
       "      <td>Almiron</td>\n",
       "      <td>Miguel</td>\n",
       "      <td>M</td>\n",
       "      <td>1912500.0</td>\n",
       "      <td>2297000.00</td>\n",
       "    </tr>\n",
       "    <tr>\n",
       "      <th>1</th>\n",
       "      <td>ATL</td>\n",
       "      <td>Ambrose</td>\n",
       "      <td>Mikey</td>\n",
       "      <td>D</td>\n",
       "      <td>65625.0</td>\n",
       "      <td>65625.00</td>\n",
       "    </tr>\n",
       "    <tr>\n",
       "      <th>2</th>\n",
       "      <td>ATL</td>\n",
       "      <td>Asad</td>\n",
       "      <td>Yamil</td>\n",
       "      <td>M</td>\n",
       "      <td>150000.0</td>\n",
       "      <td>150000.00</td>\n",
       "    </tr>\n",
       "    <tr>\n",
       "      <th>3</th>\n",
       "      <td>ATL</td>\n",
       "      <td>Bloom</td>\n",
       "      <td>Mark</td>\n",
       "      <td>D</td>\n",
       "      <td>99225.0</td>\n",
       "      <td>106573.89</td>\n",
       "    </tr>\n",
       "    <tr>\n",
       "      <th>4</th>\n",
       "      <td>ATL</td>\n",
       "      <td>Carleton</td>\n",
       "      <td>Andrew</td>\n",
       "      <td>F</td>\n",
       "      <td>65000.0</td>\n",
       "      <td>77400.00</td>\n",
       "    </tr>\n",
       "    <tr>\n",
       "      <th>...</th>\n",
       "      <td>...</td>\n",
       "      <td>...</td>\n",
       "      <td>...</td>\n",
       "      <td>...</td>\n",
       "      <td>...</td>\n",
       "      <td>...</td>\n",
       "    </tr>\n",
       "    <tr>\n",
       "      <th>611</th>\n",
       "      <td>VAN</td>\n",
       "      <td>Tornaghi</td>\n",
       "      <td>Paolo</td>\n",
       "      <td>GK</td>\n",
       "      <td>80000.0</td>\n",
       "      <td>80000.00</td>\n",
       "    </tr>\n",
       "    <tr>\n",
       "      <th>612</th>\n",
       "      <td>VAN</td>\n",
       "      <td>Waston</td>\n",
       "      <td>Kendall</td>\n",
       "      <td>D</td>\n",
       "      <td>350000.0</td>\n",
       "      <td>368125.00</td>\n",
       "    </tr>\n",
       "    <tr>\n",
       "      <th>613</th>\n",
       "      <td>VAN</td>\n",
       "      <td>Williams</td>\n",
       "      <td>Sheanon</td>\n",
       "      <td>D</td>\n",
       "      <td>175000.0</td>\n",
       "      <td>184000.00</td>\n",
       "    </tr>\n",
       "    <tr>\n",
       "      <th>614</th>\n",
       "      <td>NaN</td>\n",
       "      <td>Babouli</td>\n",
       "      <td>Mo</td>\n",
       "      <td>F</td>\n",
       "      <td>54075.0</td>\n",
       "      <td>54075.00</td>\n",
       "    </tr>\n",
       "    <tr>\n",
       "      <th>615</th>\n",
       "      <td>NaN</td>\n",
       "      <td>Ramajo</td>\n",
       "      <td>David Mateos</td>\n",
       "      <td>D</td>\n",
       "      <td>420000.0</td>\n",
       "      <td>453333.33</td>\n",
       "    </tr>\n",
       "  </tbody>\n",
       "</table>\n",
       "<p>616 rows × 6 columns</p>\n",
       "</div>"
      ],
      "text/plain": [
       "    club last_name    first_name position  base_salary  \\\n",
       "0    ATL   Almiron        Miguel        M    1912500.0   \n",
       "1    ATL   Ambrose         Mikey        D      65625.0   \n",
       "2    ATL      Asad         Yamil        M     150000.0   \n",
       "3    ATL     Bloom          Mark        D      99225.0   \n",
       "4    ATL  Carleton        Andrew        F      65000.0   \n",
       "..   ...       ...           ...      ...          ...   \n",
       "611  VAN  Tornaghi         Paolo       GK      80000.0   \n",
       "612  VAN    Waston       Kendall        D     350000.0   \n",
       "613  VAN  Williams       Sheanon        D     175000.0   \n",
       "614  NaN   Babouli            Mo        F      54075.0   \n",
       "615  NaN    Ramajo  David Mateos        D     420000.0   \n",
       "\n",
       "     guaranteed_compensation  \n",
       "0                 2297000.00  \n",
       "1                   65625.00  \n",
       "2                  150000.00  \n",
       "3                  106573.89  \n",
       "4                   77400.00  \n",
       "..                       ...  \n",
       "611                 80000.00  \n",
       "612                368125.00  \n",
       "613                184000.00  \n",
       "614                 54075.00  \n",
       "615                453333.33  \n",
       "\n",
       "[616 rows x 6 columns]"
      ]
     },
     "execution_count": 2,
     "metadata": {},
     "output_type": "execute_result"
    }
   ],
   "source": [
    "dataset = pd.read_csv(\"mls-salaries-2017.csv\")\n",
    "dataset"
   ]
  },
  {
   "cell_type": "markdown",
   "id": "1c667f8c-cc54-4eb4-9720-d0b10a8d5257",
   "metadata": {},
   "source": [
    "## Data Cleaning"
   ]
  },
  {
   "cell_type": "code",
   "execution_count": 3,
   "id": "db60cf31-c7ee-4c24-b95b-996c99fe5888",
   "metadata": {},
   "outputs": [
    {
     "data": {
      "text/plain": [
       "club                       2\n",
       "last_name                  0\n",
       "first_name                 4\n",
       "position                   0\n",
       "base_salary                0\n",
       "guaranteed_compensation    0\n",
       "dtype: int64"
      ]
     },
     "execution_count": 3,
     "metadata": {},
     "output_type": "execute_result"
    }
   ],
   "source": [
    "# 1.\n",
    "dataset.isnull().sum()"
   ]
  },
  {
   "cell_type": "code",
   "execution_count": 4,
   "id": "fc1adecb-6149-46dd-931c-3f7f9639266c",
   "metadata": {},
   "outputs": [],
   "source": [
    "# 2.\n",
    "dataset.dropna(inplace=True)"
   ]
  },
  {
   "cell_type": "code",
   "execution_count": 5,
   "id": "a190fc0c-60ab-4eea-ad5d-eaa8347ff8d5",
   "metadata": {},
   "outputs": [
    {
     "data": {
      "text/plain": [
       "club                       0\n",
       "last_name                  0\n",
       "first_name                 0\n",
       "position                   0\n",
       "base_salary                0\n",
       "guaranteed_compensation    0\n",
       "dtype: int64"
      ]
     },
     "execution_count": 5,
     "metadata": {},
     "output_type": "execute_result"
    }
   ],
   "source": [
    "# 3.\n",
    "dataset.isnull().sum()"
   ]
  },
  {
   "cell_type": "code",
   "execution_count": 6,
   "id": "c56fbffe-cac1-4a69-bb46-eb59fe75b44e",
   "metadata": {},
   "outputs": [
    {
     "data": {
      "text/html": [
       "<div>\n",
       "<style scoped>\n",
       "    .dataframe tbody tr th:only-of-type {\n",
       "        vertical-align: middle;\n",
       "    }\n",
       "\n",
       "    .dataframe tbody tr th {\n",
       "        vertical-align: top;\n",
       "    }\n",
       "\n",
       "    .dataframe thead th {\n",
       "        text-align: right;\n",
       "    }\n",
       "</style>\n",
       "<table border=\"1\" class=\"dataframe\">\n",
       "  <thead>\n",
       "    <tr style=\"text-align: right;\">\n",
       "      <th></th>\n",
       "      <th>club</th>\n",
       "      <th>last_name</th>\n",
       "      <th>first_name</th>\n",
       "      <th>position</th>\n",
       "      <th>base_salary</th>\n",
       "      <th>guaranteed_compensation</th>\n",
       "    </tr>\n",
       "  </thead>\n",
       "  <tbody>\n",
       "    <tr>\n",
       "      <th>1</th>\n",
       "      <td>ATL</td>\n",
       "      <td>Ambrose</td>\n",
       "      <td>Mikey</td>\n",
       "      <td>D</td>\n",
       "      <td>65625.0</td>\n",
       "      <td>65625.00</td>\n",
       "    </tr>\n",
       "    <tr>\n",
       "      <th>2</th>\n",
       "      <td>ATL</td>\n",
       "      <td>Asad</td>\n",
       "      <td>Yamil</td>\n",
       "      <td>M</td>\n",
       "      <td>150000.0</td>\n",
       "      <td>150000.00</td>\n",
       "    </tr>\n",
       "    <tr>\n",
       "      <th>3</th>\n",
       "      <td>ATL</td>\n",
       "      <td>Bloom</td>\n",
       "      <td>Mark</td>\n",
       "      <td>D</td>\n",
       "      <td>99225.0</td>\n",
       "      <td>106573.89</td>\n",
       "    </tr>\n",
       "    <tr>\n",
       "      <th>4</th>\n",
       "      <td>ATL</td>\n",
       "      <td>Carleton</td>\n",
       "      <td>Andrew</td>\n",
       "      <td>F</td>\n",
       "      <td>65000.0</td>\n",
       "      <td>77400.00</td>\n",
       "    </tr>\n",
       "    <tr>\n",
       "      <th>6</th>\n",
       "      <td>ATL</td>\n",
       "      <td>Garza</td>\n",
       "      <td>Greg</td>\n",
       "      <td>D</td>\n",
       "      <td>150000.0</td>\n",
       "      <td>150000.00</td>\n",
       "    </tr>\n",
       "    <tr>\n",
       "      <th>...</th>\n",
       "      <td>...</td>\n",
       "      <td>...</td>\n",
       "      <td>...</td>\n",
       "      <td>...</td>\n",
       "      <td>...</td>\n",
       "      <td>...</td>\n",
       "    </tr>\n",
       "    <tr>\n",
       "      <th>609</th>\n",
       "      <td>VAN</td>\n",
       "      <td>Techera</td>\n",
       "      <td>Cristian</td>\n",
       "      <td>M</td>\n",
       "      <td>352000.0</td>\n",
       "      <td>377000.00</td>\n",
       "    </tr>\n",
       "    <tr>\n",
       "      <th>610</th>\n",
       "      <td>VAN</td>\n",
       "      <td>Teibert</td>\n",
       "      <td>Russell</td>\n",
       "      <td>M</td>\n",
       "      <td>126500.0</td>\n",
       "      <td>194000.00</td>\n",
       "    </tr>\n",
       "    <tr>\n",
       "      <th>611</th>\n",
       "      <td>VAN</td>\n",
       "      <td>Tornaghi</td>\n",
       "      <td>Paolo</td>\n",
       "      <td>GK</td>\n",
       "      <td>80000.0</td>\n",
       "      <td>80000.00</td>\n",
       "    </tr>\n",
       "    <tr>\n",
       "      <th>612</th>\n",
       "      <td>VAN</td>\n",
       "      <td>Waston</td>\n",
       "      <td>Kendall</td>\n",
       "      <td>D</td>\n",
       "      <td>350000.0</td>\n",
       "      <td>368125.00</td>\n",
       "    </tr>\n",
       "    <tr>\n",
       "      <th>613</th>\n",
       "      <td>VAN</td>\n",
       "      <td>Williams</td>\n",
       "      <td>Sheanon</td>\n",
       "      <td>D</td>\n",
       "      <td>175000.0</td>\n",
       "      <td>184000.00</td>\n",
       "    </tr>\n",
       "  </tbody>\n",
       "</table>\n",
       "<p>543 rows × 6 columns</p>\n",
       "</div>"
      ],
      "text/plain": [
       "    club last_name first_name position  base_salary  guaranteed_compensation\n",
       "1    ATL   Ambrose      Mikey        D      65625.0                 65625.00\n",
       "2    ATL      Asad      Yamil        M     150000.0                150000.00\n",
       "3    ATL     Bloom       Mark        D      99225.0                106573.89\n",
       "4    ATL  Carleton     Andrew        F      65000.0                 77400.00\n",
       "6    ATL     Garza       Greg        D     150000.0                150000.00\n",
       "..   ...       ...        ...      ...          ...                      ...\n",
       "609  VAN   Techera   Cristian        M     352000.0                377000.00\n",
       "610  VAN   Teibert    Russell        M     126500.0                194000.00\n",
       "611  VAN  Tornaghi      Paolo       GK      80000.0                 80000.00\n",
       "612  VAN    Waston    Kendall        D     350000.0                368125.00\n",
       "613  VAN  Williams    Sheanon        D     175000.0                184000.00\n",
       "\n",
       "[543 rows x 6 columns]"
      ]
     },
     "execution_count": 6,
     "metadata": {},
     "output_type": "execute_result"
    }
   ],
   "source": [
    "# 4. For Outliers\n",
    "Q1 = dataset[\"base_salary\"].quantile(0.25)\n",
    "Q3 = dataset[\"base_salary\"].quantile(0.75)\n",
    "IQR = Q3 - Q1\n",
    "lower_bound = Q1 - 1.5 * IQR\n",
    "upper_bound = Q3 + 1.5 * IQR\n",
    "dataset = dataset[(dataset[\"base_salary\"] >= lower_bound) & (dataset[\"base_salary\"] <= upper_bound)]\n",
    "dataset"
   ]
  },
  {
   "cell_type": "markdown",
   "id": "441ba5ef-d3db-4124-aed0-bc3ba9ecbdc9",
   "metadata": {},
   "source": [
    "## Setting up X and y for Model Training"
   ]
  },
  {
   "cell_type": "code",
   "execution_count": 7,
   "id": "16c8bcc9-532a-45e7-8bbc-555fd0b16b60",
   "metadata": {},
   "outputs": [],
   "source": [
    "X = dataset[[\"position\",\"guaranteed_compensation\"]].values\n",
    "y = np.log1p(dataset[\"base_salary\"]) "
   ]
  },
  {
   "cell_type": "markdown",
   "id": "cbac5ea9-6dc3-43e4-89f1-e1a08bcb8c71",
   "metadata": {},
   "source": [
    "## Encoding Categorical Variables"
   ]
  },
  {
   "cell_type": "code",
   "execution_count": 8,
   "id": "d29296bb-424e-452f-be88-09d816799587",
   "metadata": {},
   "outputs": [
    {
     "name": "stderr",
     "output_type": "stream",
     "text": [
      "C:\\Users\\Baris\\AppData\\Local\\Temp\\ipykernel_19572\\3298494022.py:1: SettingWithCopyWarning: \n",
      "A value is trying to be set on a copy of a slice from a DataFrame.\n",
      "Try using .loc[row_indexer,col_indexer] = value instead\n",
      "\n",
      "See the caveats in the documentation: https://pandas.pydata.org/pandas-docs/stable/user_guide/indexing.html#returning-a-view-versus-a-copy\n",
      "  dataset[\"position\"] = dataset[\"position\"].astype(str)\n"
     ]
    }
   ],
   "source": [
    "dataset[\"position\"] = dataset[\"position\"].astype(str)\n",
    "from sklearn.compose import ColumnTransformer\n",
    "from sklearn.preprocessing import OneHotEncoder\n",
    "ct = ColumnTransformer(transformers=[(\"encoder\",OneHotEncoder(sparse_output=False),[0])],remainder=\"passthrough\")\n",
    "X = np.array(ct.fit_transform(X))"
   ]
  },
  {
   "cell_type": "code",
   "execution_count": 9,
   "id": "7c3b44ae-af83-4023-bf8f-5b41b692c645",
   "metadata": {},
   "outputs": [
    {
     "name": "stdout",
     "output_type": "stream",
     "text": [
      "[[1.0 0.0 0.0 ... 0.0 0.0 65625.0]\n",
      " [0.0 0.0 0.0 ... 0.0 0.0 150000.0]\n",
      " [1.0 0.0 0.0 ... 0.0 0.0 106573.89]\n",
      " ...\n",
      " [0.0 0.0 0.0 ... 0.0 0.0 80000.0]\n",
      " [1.0 0.0 0.0 ... 0.0 0.0 368125.0]\n",
      " [1.0 0.0 0.0 ... 0.0 0.0 184000.0]]\n"
     ]
    }
   ],
   "source": [
    "print(X)"
   ]
  },
  {
   "cell_type": "code",
   "execution_count": 10,
   "id": "62f171e0-fb34-44a4-a6ea-44d0b847f56d",
   "metadata": {},
   "outputs": [
    {
     "name": "stdout",
     "output_type": "stream",
     "text": [
      "(543, 10)\n",
      "(543,)\n"
     ]
    }
   ],
   "source": [
    "print(X.shape)\n",
    "print(y.shape)"
   ]
  },
  {
   "cell_type": "markdown",
   "id": "68096211-caa1-432c-afe0-93985a0582bd",
   "metadata": {},
   "source": [
    "## Splitting the Dataset into Training and Test Sets"
   ]
  },
  {
   "cell_type": "code",
   "execution_count": 11,
   "id": "44a58ff3-486b-423b-8c8a-056cdfe3a472",
   "metadata": {},
   "outputs": [],
   "source": [
    "from sklearn.model_selection import train_test_split\n",
    "X_train,X_test,y_train,y_test = train_test_split(X,y,test_size=0.2,random_state=42)"
   ]
  },
  {
   "cell_type": "markdown",
   "id": "00756904-5a8f-40fe-a0f9-60dfd38bcb97",
   "metadata": {},
   "source": [
    "## Building and Training the XGBoost Model"
   ]
  },
  {
   "cell_type": "code",
   "execution_count": 13,
   "id": "28f43195-2292-4e67-921b-4beb4baaa413",
   "metadata": {},
   "outputs": [],
   "source": [
    "from xgboost import XGBRegressor\n",
    "xgb = XGBRegressor(n_estimators=500, max_depth=10, learning_rate=0.1, random_state=42)\n",
    "xgb.fit(X_train, y_train)\n",
    "predictions = xgb.predict(X_test)"
   ]
  },
  {
   "cell_type": "markdown",
   "id": "0238ed13-1d73-45fb-88dd-77a43304c3cc",
   "metadata": {},
   "source": [
    "## Evaluating Model Performance"
   ]
  },
  {
   "cell_type": "code",
   "execution_count": 14,
   "id": "37672eb4-677c-460d-8c4b-34f70b89d792",
   "metadata": {},
   "outputs": [
    {
     "name": "stdout",
     "output_type": "stream",
     "text": [
      "MAE: 0.06755762717958066\n",
      "MSE: 0.014109612770240568\n",
      "RMSE: 0.11878389103847613\n"
     ]
    }
   ],
   "source": [
    "from sklearn.metrics import mean_absolute_error, mean_squared_error\n",
    "print(\"MAE:\", mean_absolute_error(y_test, predictions))\n",
    "print(\"MSE:\", mean_squared_error(y_test, predictions))\n",
    "print(\"RMSE:\", np.sqrt(mean_squared_error(y_test, predictions)))"
   ]
  },
  {
   "cell_type": "markdown",
   "id": "9a10186c-cc0e-41d9-b2e9-d83067fb696c",
   "metadata": {},
   "source": [
    "## Visualizing Actual vs Predicted Values"
   ]
  },
  {
   "cell_type": "code",
   "execution_count": 15,
   "id": "315f64cd-6098-470c-b0ed-026ff673fde4",
   "metadata": {},
   "outputs": [
    {
     "data": {
      "image/png": "[encoded data removed]",
      "text/plain": [
       "<Figure size 1000x600 with 1 Axes>"
      ]
     },
     "metadata": {},
     "output_type": "display_data"
    }
   ],
   "source": [
    "plt.figure(figsize=(10, 6))\n",
    "plt.scatter(y_test, xgb.predict(X_test))\n",
    "plt.xlabel(\"Actual Values\")\n",
    "plt.ylabel(\"Predicted Values\")\n",
    "plt.title(\"Actual vs Prediction\")\n",
    "plt.show()"
   ]
  },
  {
   "cell_type": "markdown",
   "id": "d5b6fe02-2444-4365-9bdf-c417839c121b",
   "metadata": {},
   "source": [
    "## Results in Log Scale"
   ]
  },
  {
   "cell_type": "code",
   "execution_count": 16,
   "id": "e447daf5-2d43-4041-a872-d487ab5c3f39",
   "metadata": {},
   "outputs": [
    {
     "name": "stdout",
     "output_type": "stream",
     "text": [
      "[[11.08226681 11.08221947]\n",
      " [11.52032566 11.56172515]\n",
      " [11.92002583 11.91839724]\n",
      " [12.78295803 12.79386209]\n",
      " [10.89754391 10.89814574]\n",
      " [11.08197594 11.08215793]\n",
      " [12.77965069 12.76569129]\n",
      " [11.23103046 11.60824474]\n",
      " [12.01430798 12.07259268]\n",
      " [11.55044746 11.73607702]\n",
      " [11.14355564 11.15626481]\n",
      " [10.87826157 10.87814153]\n",
      " [12.11187267 12.10071769]\n",
      " [11.5543623  11.3504183 ]\n",
      " [11.7693491  11.77535896]\n",
      " [11.08221817 11.08215793]\n",
      " [12.37624836 12.52454456]\n",
      " [12.37805939 12.33490991]\n",
      " [12.02917004 12.01370681]\n",
      " [11.35034466 11.28979441]\n",
      " [11.51790428 11.56172515]\n",
      " [11.08229065 11.08215793]\n",
      " [12.69928932 12.69158354]\n",
      " [11.46236134 11.60824474]\n",
      " [10.89756775 10.89814574]\n",
      " [11.5499382  11.50515536]\n",
      " [12.52142239 12.61154109]\n",
      " [11.36621284 11.36791125]\n",
      " [11.14561081 11.25162563]\n",
      " [12.11187267 12.10071769]\n",
      " [12.61752987 12.61154109]\n",
      " [12.18733692 12.27839796]\n",
      " [11.09923649 11.09969529]\n",
      " [11.50856495 11.6082811 ]\n",
      " [12.49832058 12.48751907]\n",
      " [11.34542656 11.22525673]\n",
      " [11.64597321 11.72446628]\n",
      " [11.82117367 11.73607702]\n",
      " [11.08217907 11.08215855]\n",
      " [11.09919739 11.09969529]\n",
      " [11.59496498 11.6082811 ]\n",
      " [13.04894066 13.01700508]\n",
      " [10.87954807 10.87814153]\n",
      " [12.28821468 12.21602793]\n",
      " [11.49081802 11.52090356]\n",
      " [11.36621284 11.47211389]\n",
      " [11.2104044  11.22525673]\n",
      " [11.81159019 11.84943342]\n",
      " [11.28770638 11.28979441]\n",
      " [13.05253124 12.97849532]\n",
      " [11.59934998 11.53028393]\n",
      " [11.09767914 11.09172724]\n",
      " [11.08226681 11.08221947]\n",
      " [12.61752987 12.61154109]\n",
      " [12.46196175 12.57071923]\n",
      " [11.81159019 11.84943342]\n",
      " [12.86243916 12.87390458]\n",
      " [12.07041264 11.73601301]\n",
      " [12.49832058 12.4292042 ]\n",
      " [11.69016552 11.69525536]\n",
      " [12.2321949  12.04942468]\n",
      " [11.48901939 11.56172515]\n",
      " [11.91973209 11.91839724]\n",
      " [11.09151459 11.09185523]\n",
      " [11.29828358 11.35037124]\n",
      " [12.78367138 12.7713893 ]\n",
      " [10.87950897 10.87814153]\n",
      " [10.89754391 10.89814574]\n",
      " [12.12849998 11.90834697]\n",
      " [10.87826157 10.87814153]\n",
      " [11.47943974 11.5987453 ]\n",
      " [11.72984695 11.69525536]\n",
      " [12.41813278 12.44902275]\n",
      " [12.22202206 12.4292202 ]\n",
      " [11.09121704 11.09172724]\n",
      " [11.78344917 11.73610902]\n",
      " [11.1499052  11.22525673]\n",
      " [11.99464035 11.84133673]\n",
      " [12.52811527 12.61154109]\n",
      " [10.87826157 10.87806681]\n",
      " [12.01981544 12.34585633]\n",
      " [11.82026958 11.84940484]\n",
      " [13.06134796 13.12236538]\n",
      " [11.55044746 11.75587949]\n",
      " [12.09802818 12.20607765]\n",
      " [11.09301758 11.09172724]\n",
      " [11.98810005 11.91839724]\n",
      " [11.11901855 11.27404626]\n",
      " [11.69493961 11.51301546]\n",
      " [11.72899723 11.83501621]\n",
      " [12.25406361 12.25486757]\n",
      " [11.29064751 11.23261284]\n",
      " [12.78128147 12.61154109]\n",
      " [11.5991993  11.6526961 ]\n",
      " [12.97498226 13.01700508]\n",
      " [11.4854002  11.49451707]\n",
      " [11.59496498 11.55695192]\n",
      " [13.02705002 13.01700508]\n",
      " [11.08224869 11.08221947]\n",
      " [11.90260696 11.91839724]\n",
      " [12.89463711 12.79386209]\n",
      " [10.87826538 10.87806606]\n",
      " [11.34746742 11.28979441]\n",
      " [11.08220959 11.08221947]\n",
      " [11.59934998 11.51301546]\n",
      " [12.27893257 12.20609765]\n",
      " [12.69363213 12.52452972]\n",
      " [12.0407505  11.98293534]\n",
      " [12.22848511 11.51293546]]\n"
     ]
    }
   ],
   "source": [
    "results = np.concatenate((np.array(predictions).reshape(len(predictions),1),\n",
    "                      np.array(y_test).reshape(len(y_test),1)),1)\n",
    "print(results)"
   ]
  },
  {
   "cell_type": "markdown",
   "id": "d15f5768-6f7e-4e1b-b7c5-fc4e5ae1678e",
   "metadata": {},
   "source": [
    "## Applying Inverse Log Transformation"
   ]
  },
  {
   "cell_type": "code",
   "execution_count": 17,
   "id": "a183283d-a92a-4739-be56-c081dd886ee1",
   "metadata": {},
   "outputs": [
    {
     "name": "stdout",
     "output_type": "stream",
     "text": [
      "       Predictions  Actual Values\n",
      "0     65007.077316       65004.00\n",
      "1    100741.764485      105000.00\n",
      "2    150244.488526      150000.00\n",
      "3    356095.852601      360000.00\n",
      "4     54042.464891       54075.00\n",
      "..             ...            ...\n",
      "104  109025.906087      100008.00\n",
      "105  215114.973092      200004.00\n",
      "106  325666.475460      274999.92\n",
      "107  169523.121183      160000.00\n",
      "108  204532.101608      100000.00\n",
      "\n",
      "[109 rows x 2 columns]\n"
     ]
    }
   ],
   "source": [
    "results[:, 0] = np.expm1(results[:, 0])  \n",
    "results[:, 1] = np.expm1(results[:, 1])  \n",
    "\n",
    "results_df = pd.DataFrame(results, columns=[\"Predictions\", \"Actual Values\"])\n",
    "print(results_df)"
   ]
  },
  {
   "cell_type": "markdown",
   "id": "aeaac9b0-202d-4925-bc03-65399011486e",
   "metadata": {},
   "source": [
    "## Errors"
   ]
  },
  {
   "cell_type": "code",
   "execution_count": 18,
   "id": "737ebd81-0442-46ab-a29c-1552b71a5cea",
   "metadata": {},
   "outputs": [
    {
     "data": {
      "text/plain": [
       "array([-3.07731592e+00,  4.25823551e+03, -2.44488526e+02,  3.90414740e+03,\n",
       "        3.25351094e+01,  1.18288771e+01, -4.92006378e+03,  3.45657113e+04,\n",
       "        9.90877780e+03,  2.11775163e+04,  8.84024784e+02, -6.36302020e+00,\n",
       "       -2.01914978e+03, -1.92297319e+04,  7.78992674e+02, -3.91556959e+00,\n",
       "        3.79023711e+04, -1.00314173e+04, -2.57127611e+03, -4.99374057e+03,\n",
       "        4.50187685e+03, -8.62724774e+00, -2.51406136e+03,  1.49317040e+04,\n",
       "        3.12465974e+01, -4.54462379e+03,  2.58532740e+04,  1.46789361e+02,\n",
       "        7.74583171e+03, -2.01914978e+03, -1.80203122e+03,  1.87132602e+04,\n",
       "        3.03430015e+01,  1.04401023e+04, -2.87801359e+03, -9.57675430e+03,\n",
       "        9.32758687e+03, -1.11028761e+04, -1.33388503e+00,  3.29283114e+01,\n",
       "        1.45512963e+03, -1.46029766e+04, -7.46063798e+01, -1.51209994e+04,\n",
       "        2.98748627e+03,  9.64678936e+03,  1.10570808e+03,  5.19924159e+03,\n",
       "        1.66870887e+02, -3.32741747e+04, -7.27590609e+03, -3.91764124e+02,\n",
       "       -3.07731592e+00, -1.80203122e+03,  2.96791037e+04,  5.19924159e+03,\n",
       "        4.44599155e+03, -4.96348882e+04, -1.78900136e+04,  6.09233567e+02,\n",
       "       -3.42922863e+04,  7.36325844e+03, -2.00363146e+02,  2.23539161e+01,\n",
       "        4.31396759e+03, -4.34996434e+03, -7.25309734e+01,  3.25351094e+01,\n",
       "       -3.65709569e+04, -6.36302020e+00,  1.22541288e+04, -4.22365688e+03,\n",
       "        7.75655503e+03,  4.67855436e+04,  3.34736392e+01, -6.06006693e+03,\n",
       "        5.44376591e+03, -2.30088162e+04,  2.40122805e+04, -1.03230202e+01,\n",
       "        6.39929849e+04,  4.02011754e+03,  2.95966319e+04,  2.36775163e+04,\n",
       "        2.04834627e+04, -8.47345258e+01, -1.08284960e+04,  1.13093165e+04,\n",
       "       -1.99541167e+04,  1.38818549e+04,  1.68765673e+02, -4.51452742e+03,\n",
       "       -5.54993352e+04,  5.99052091e+03,  1.85184874e+04,  8.90989689e+02,\n",
       "       -4.04887037e+03, -4.54300942e+03, -1.89939245e+00,  2.34995509e+03,\n",
       "       -3.81701066e+04, -1.05652429e+01, -4.74954217e+03,  6.42369677e-01,\n",
       "       -9.01790609e+03, -1.51109731e+04, -5.06665555e+04, -9.52312118e+03,\n",
       "       -1.04532102e+05])"
      ]
     },
     "execution_count": 18,
     "metadata": {},
     "output_type": "execute_result"
    }
   ],
   "source": [
    "errors = results[:, 1] - results[:, 0]\n",
    "errors"
   ]
  },
  {
   "cell_type": "markdown",
   "id": "eb88a90e-dbff-4c78-b8b0-9f43a5383e7c",
   "metadata": {},
   "source": [
    "## Visualizing Prediction Errors Distribution"
   ]
  },
  {
   "cell_type": "code",
   "execution_count": 19,
   "id": "1c6d3b82-cd2a-4401-9c37-483475b06256",
   "metadata": {},
   "outputs": [
    {
     "data": {
      "image/png": "[encoded data removed]",
      "text/plain": [
       "<Figure size 1000x600 with 1 Axes>"
      ]
     },
     "metadata": {},
     "output_type": "display_data"
    }
   ],
   "source": [
    "plt.figure(figsize=(10, 6))\n",
    "plt.hist(errors, bins=30, edgecolor='k', alpha=0.7)\n",
    "plt.title(\"Prediction Errors Distribution\")\n",
    "plt.xlabel(\"Error (Actual - Prediction)\")\n",
    "plt.ylabel(\"Frequency\")\n",
    "plt.grid(True)\n",
    "plt.show()"
   ]
  },
  {
   "cell_type": "markdown",
   "id": "579f210b-a7e4-456a-b8b8-587472f7b68f",
   "metadata": {},
   "source": [
    "## Analyzing Error Distribution by Actual Values"
   ]
  },
  {
   "cell_type": "code",
   "execution_count": 20,
   "id": "57e73dec-fc97-4efa-9e09-b6bb83450acd",
   "metadata": {},
   "outputs": [
    {
     "data": {
      "image/png": "[encoded data removed]",
      "text/plain": [
       "<Figure size 1000x600 with 1 Axes>"
      ]
     },
     "metadata": {},
     "output_type": "display_data"
    }
   ],
   "source": [
    "plt.figure(figsize=(10, 6))\n",
    "plt.scatter(results[:, 1], errors, alpha=0.6)\n",
    "plt.axhline(y=0, color='r', linestyle='--')\n",
    "plt.title(\"Errors vs Actual Values\")\n",
    "plt.xlabel(\"Actual Values\")\n",
    "plt.ylabel(\"Error (Actual - Prediction)\")\n",
    "plt.grid(True)\n",
    "plt.show()"
   ]
  }
 ],
 "metadata": {
  "kernelspec": {
   "display_name": "Python 3 (ipykernel)",
   "language": "python",
   "name": "python3"
  },
  "language_info": {
   "codemirror_mode": {
    "name": "ipython",
    "version": 3
   },
   "file_extension": ".py",
   "mimetype": "text/x-python",
   "name": "python",
   "nbconvert_exporter": "python",
   "pygments_lexer": "ipython3",
   "version": "3.10.16"
  }
 },
 "nbformat": 4,
 "nbformat_minor": 5
}
